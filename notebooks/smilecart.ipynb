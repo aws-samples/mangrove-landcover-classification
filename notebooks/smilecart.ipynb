{
 "cells": [
  {
   "cell_type": "markdown",
   "id": "e256a2ec",
   "metadata": {},
   "source": [
    "## GEE SmileCart model training and performance"
   ]
  },
  {
   "cell_type": "code",
   "execution_count": 1,
   "id": "e9e983e9",
   "metadata": {},
   "outputs": [],
   "source": [
    "import sys\n",
    "sys.path.append(\"../src\")"
   ]
  },
  {
   "cell_type": "code",
   "execution_count": 2,
   "id": "9655065a",
   "metadata": {},
   "outputs": [],
   "source": [
    "import ee\n",
    "import pandas as pd\n",
    "import geopandas\n",
    "\n",
    "import matplotlib.pyplot as plt\n",
    "import geemap.eefolium as geemap\n",
    "from geemap import geopandas_to_ee, ee_to_geopandas\n",
    "\n",
    "from plot_utils import plot_inference\n",
    "from inf_utils import get_model_prediction\n",
    "from sklearn.metrics import ConfusionMatrixDisplay\n",
    "from sklearn.metrics import classification_report"
   ]
  },
  {
   "cell_type": "markdown",
   "id": "943f6748",
   "metadata": {},
   "source": [
    "### Initialize Earth Engine"
   ]
  },
  {
   "cell_type": "code",
   "execution_count": 3,
   "id": "c8110fae",
   "metadata": {},
   "outputs": [],
   "source": [
    "ee.Initialize()"
   ]
  },
  {
   "cell_type": "markdown",
   "id": "f811ccca",
   "metadata": {},
   "source": [
    "### Read training and test data"
   ]
  },
  {
   "cell_type": "code",
   "execution_count": 4,
   "id": "8c476574",
   "metadata": {},
   "outputs": [],
   "source": [
    "bucket = \"sagemaker-gis\"\n",
    "train_data_path = \"LANDSAT_LC08_C01_T1_SR/Year2013/train_with_coord.csv\"\n",
    "test_data_path = \"LANDSAT_LC08_C01_T1_SR/Year2013/test_with_coord.csv\""
   ]
  },
  {
   "cell_type": "code",
   "execution_count": 5,
   "id": "aad7b1fd",
   "metadata": {},
   "outputs": [],
   "source": [
    "total_train_set_gdf = pd.read_csv(f\"s3://{bucket}/{train_data_path}\")\n",
    "total_test_set_gdf = pd.read_csv(f\"s3://{bucket}/{test_data_path}\")"
   ]
  },
  {
   "cell_type": "code",
   "execution_count": 6,
   "id": "7a5a2f1a",
   "metadata": {},
   "outputs": [
    {
     "data": {
      "text/html": [
       "<div>\n",
       "<style scoped>\n",
       "    .dataframe tbody tr th:only-of-type {\n",
       "        vertical-align: middle;\n",
       "    }\n",
       "\n",
       "    .dataframe tbody tr th {\n",
       "        vertical-align: top;\n",
       "    }\n",
       "\n",
       "    .dataframe thead th {\n",
       "        text-align: right;\n",
       "    }\n",
       "</style>\n",
       "<table border=\"1\" class=\"dataframe\">\n",
       "  <thead>\n",
       "    <tr style=\"text-align: right;\">\n",
       "      <th></th>\n",
       "      <th>B1</th>\n",
       "      <th>B2</th>\n",
       "      <th>B3</th>\n",
       "      <th>B4</th>\n",
       "      <th>B5</th>\n",
       "      <th>B6</th>\n",
       "      <th>B7</th>\n",
       "      <th>x</th>\n",
       "      <th>y</th>\n",
       "      <th>label</th>\n",
       "    </tr>\n",
       "  </thead>\n",
       "  <tbody>\n",
       "    <tr>\n",
       "      <th>0</th>\n",
       "      <td>297</td>\n",
       "      <td>324</td>\n",
       "      <td>627</td>\n",
       "      <td>417</td>\n",
       "      <td>3964</td>\n",
       "      <td>1891</td>\n",
       "      <td>863</td>\n",
       "      <td>-50.019239</td>\n",
       "      <td>1.340130</td>\n",
       "      <td>0</td>\n",
       "    </tr>\n",
       "    <tr>\n",
       "      <th>1</th>\n",
       "      <td>185</td>\n",
       "      <td>241</td>\n",
       "      <td>423</td>\n",
       "      <td>371</td>\n",
       "      <td>1031</td>\n",
       "      <td>631</td>\n",
       "      <td>357</td>\n",
       "      <td>-49.876127</td>\n",
       "      <td>1.364031</td>\n",
       "      <td>1</td>\n",
       "    </tr>\n",
       "    <tr>\n",
       "      <th>2</th>\n",
       "      <td>174</td>\n",
       "      <td>225</td>\n",
       "      <td>515</td>\n",
       "      <td>357</td>\n",
       "      <td>3324</td>\n",
       "      <td>1525</td>\n",
       "      <td>682</td>\n",
       "      <td>-50.335638</td>\n",
       "      <td>1.071863</td>\n",
       "      <td>0</td>\n",
       "    </tr>\n",
       "    <tr>\n",
       "      <th>3</th>\n",
       "      <td>262</td>\n",
       "      <td>291</td>\n",
       "      <td>620</td>\n",
       "      <td>358</td>\n",
       "      <td>4443</td>\n",
       "      <td>1650</td>\n",
       "      <td>614</td>\n",
       "      <td>-50.190953</td>\n",
       "      <td>0.920134</td>\n",
       "      <td>1</td>\n",
       "    </tr>\n",
       "    <tr>\n",
       "      <th>4</th>\n",
       "      <td>262</td>\n",
       "      <td>282</td>\n",
       "      <td>513</td>\n",
       "      <td>351</td>\n",
       "      <td>3581</td>\n",
       "      <td>1474</td>\n",
       "      <td>589</td>\n",
       "      <td>-50.089891</td>\n",
       "      <td>0.778759</td>\n",
       "      <td>1</td>\n",
       "    </tr>\n",
       "  </tbody>\n",
       "</table>\n",
       "</div>"
      ],
      "text/plain": [
       "    B1   B2   B3   B4    B5    B6   B7          x         y  label\n",
       "0  297  324  627  417  3964  1891  863 -50.019239  1.340130      0\n",
       "1  185  241  423  371  1031   631  357 -49.876127  1.364031      1\n",
       "2  174  225  515  357  3324  1525  682 -50.335638  1.071863      0\n",
       "3  262  291  620  358  4443  1650  614 -50.190953  0.920134      1\n",
       "4  262  282  513  351  3581  1474  589 -50.089891  0.778759      1"
      ]
     },
     "execution_count": 6,
     "metadata": {},
     "output_type": "execute_result"
    }
   ],
   "source": [
    "total_train_set_gdf.head()"
   ]
  },
  {
   "cell_type": "code",
   "execution_count": 7,
   "id": "17a15133",
   "metadata": {},
   "outputs": [
    {
     "data": {
      "text/html": [
       "<div>\n",
       "<style scoped>\n",
       "    .dataframe tbody tr th:only-of-type {\n",
       "        vertical-align: middle;\n",
       "    }\n",
       "\n",
       "    .dataframe tbody tr th {\n",
       "        vertical-align: top;\n",
       "    }\n",
       "\n",
       "    .dataframe thead th {\n",
       "        text-align: right;\n",
       "    }\n",
       "</style>\n",
       "<table border=\"1\" class=\"dataframe\">\n",
       "  <thead>\n",
       "    <tr style=\"text-align: right;\">\n",
       "      <th></th>\n",
       "      <th>B1</th>\n",
       "      <th>B2</th>\n",
       "      <th>B3</th>\n",
       "      <th>B4</th>\n",
       "      <th>B5</th>\n",
       "      <th>B6</th>\n",
       "      <th>B7</th>\n",
       "      <th>x</th>\n",
       "      <th>y</th>\n",
       "      <th>label</th>\n",
       "    </tr>\n",
       "  </thead>\n",
       "  <tbody>\n",
       "    <tr>\n",
       "      <th>0</th>\n",
       "      <td>48</td>\n",
       "      <td>96</td>\n",
       "      <td>244</td>\n",
       "      <td>175</td>\n",
       "      <td>1236</td>\n",
       "      <td>716</td>\n",
       "      <td>323</td>\n",
       "      <td>-76.727911</td>\n",
       "      <td>21.040621</td>\n",
       "      <td>0</td>\n",
       "    </tr>\n",
       "    <tr>\n",
       "      <th>1</th>\n",
       "      <td>369</td>\n",
       "      <td>300</td>\n",
       "      <td>145</td>\n",
       "      <td>89</td>\n",
       "      <td>80</td>\n",
       "      <td>77</td>\n",
       "      <td>58</td>\n",
       "      <td>-76.718213</td>\n",
       "      <td>19.562783</td>\n",
       "      <td>0</td>\n",
       "    </tr>\n",
       "    <tr>\n",
       "      <th>2</th>\n",
       "      <td>351</td>\n",
       "      <td>544</td>\n",
       "      <td>1045</td>\n",
       "      <td>1060</td>\n",
       "      <td>4169</td>\n",
       "      <td>3575</td>\n",
       "      <td>2022</td>\n",
       "      <td>-77.017011</td>\n",
       "      <td>21.056080</td>\n",
       "      <td>0</td>\n",
       "    </tr>\n",
       "    <tr>\n",
       "      <th>3</th>\n",
       "      <td>425</td>\n",
       "      <td>327</td>\n",
       "      <td>124</td>\n",
       "      <td>57</td>\n",
       "      <td>35</td>\n",
       "      <td>30</td>\n",
       "      <td>23</td>\n",
       "      <td>-77.687412</td>\n",
       "      <td>19.686923</td>\n",
       "      <td>0</td>\n",
       "    </tr>\n",
       "    <tr>\n",
       "      <th>4</th>\n",
       "      <td>130</td>\n",
       "      <td>173</td>\n",
       "      <td>356</td>\n",
       "      <td>240</td>\n",
       "      <td>2616</td>\n",
       "      <td>1295</td>\n",
       "      <td>520</td>\n",
       "      <td>-77.560585</td>\n",
       "      <td>19.871735</td>\n",
       "      <td>0</td>\n",
       "    </tr>\n",
       "  </tbody>\n",
       "</table>\n",
       "</div>"
      ],
      "text/plain": [
       "    B1   B2    B3    B4    B5    B6    B7          x          y  label\n",
       "0   48   96   244   175  1236   716   323 -76.727911  21.040621      0\n",
       "1  369  300   145    89    80    77    58 -76.718213  19.562783      0\n",
       "2  351  544  1045  1060  4169  3575  2022 -77.017011  21.056080      0\n",
       "3  425  327   124    57    35    30    23 -77.687412  19.686923      0\n",
       "4  130  173   356   240  2616  1295   520 -77.560585  19.871735      0"
      ]
     },
     "execution_count": 7,
     "metadata": {},
     "output_type": "execute_result"
    }
   ],
   "source": [
    "total_test_set_gdf.head()"
   ]
  },
  {
   "cell_type": "code",
   "execution_count": 8,
   "id": "893d4e38",
   "metadata": {},
   "outputs": [
    {
     "data": {
      "text/plain": [
       "((27254, 10), (5566, 10))"
      ]
     },
     "execution_count": 8,
     "metadata": {},
     "output_type": "execute_result"
    }
   ],
   "source": [
    "total_train_set_gdf.shape, total_test_set_gdf.shape"
   ]
  },
  {
   "cell_type": "markdown",
   "id": "b4fed8b7",
   "metadata": {},
   "source": [
    "### Convert pandas dataframe to geopandas dataframe"
   ]
  },
  {
   "cell_type": "code",
   "execution_count": 9,
   "id": "236a9929",
   "metadata": {},
   "outputs": [],
   "source": [
    "geom = geopandas.points_from_xy(total_train_set_gdf.x, total_train_set_gdf.y)\n",
    "total_train_set_gdf = geopandas.GeoDataFrame(total_train_set_gdf, geometry=geom)\n",
    "\n",
    "geom = geopandas.points_from_xy(total_test_set_gdf.x, total_test_set_gdf.y)\n",
    "total_test_set_gdf = geopandas.GeoDataFrame(total_test_set_gdf, geometry=geom)"
   ]
  },
  {
   "cell_type": "markdown",
   "id": "c979732c",
   "metadata": {},
   "source": [
    "### Select a subset of points\n",
    "These are restrictions imposed by smileCart."
   ]
  },
  {
   "cell_type": "code",
   "execution_count": 10,
   "id": "519b5ce1",
   "metadata": {},
   "outputs": [],
   "source": [
    "n_train = 20000\n",
    "n_test = 5000 "
   ]
  },
  {
   "cell_type": "markdown",
   "id": "e2d77400",
   "metadata": {},
   "source": [
    "### Convert geopandas dataframe to EE feature collection"
   ]
  },
  {
   "cell_type": "code",
   "execution_count": 11,
   "id": "bfd502eb",
   "metadata": {},
   "outputs": [],
   "source": [
    "train_set_pts = geopandas_to_ee(total_train_set_gdf[:n_train])\n",
    "test_set_pts = geopandas_to_ee(total_test_set_gdf[:n_test])"
   ]
  },
  {
   "cell_type": "markdown",
   "id": "f2950a3c",
   "metadata": {},
   "source": [
    "### Train classifier"
   ]
  },
  {
   "cell_type": "code",
   "execution_count": 12,
   "id": "be973f11",
   "metadata": {},
   "outputs": [],
   "source": [
    "bands = ['B1', 'B2', 'B3', 'B4', 'B5', 'B6', 'B7']\n",
    "label = 'label'\n",
    "\n",
    "classifier = ee.Classifier.smileCart().train(train_set_pts, label, bands)"
   ]
  },
  {
   "cell_type": "markdown",
   "id": "73f7a356",
   "metadata": {},
   "source": [
    "### Generate inference"
   ]
  },
  {
   "cell_type": "code",
   "execution_count": 13,
   "id": "7060b352",
   "metadata": {},
   "outputs": [],
   "source": [
    "result_featurecollection = test_set_pts.select(bands).classify(classifier)"
   ]
  },
  {
   "cell_type": "markdown",
   "id": "57c02410",
   "metadata": {},
   "source": [
    "### Plot confusion matrix"
   ]
  },
  {
   "cell_type": "code",
   "execution_count": 14,
   "id": "7c507393",
   "metadata": {},
   "outputs": [],
   "source": [
    "prediction_gdf = ee_to_geopandas(result_featurecollection)"
   ]
  },
  {
   "cell_type": "code",
   "execution_count": 15,
   "id": "8a316fe6",
   "metadata": {},
   "outputs": [],
   "source": [
    "y_true = total_test_set_gdf.loc[:n_test-1, \"label\"]\n",
    "y_pred = prediction_gdf[\"classification\"]"
   ]
  },
  {
   "cell_type": "code",
   "execution_count": 16,
   "id": "6ce8d0c9",
   "metadata": {},
   "outputs": [
    {
     "data": {
      "image/png": "[encoded data removed]",
      "text/plain": [
       "<Figure size 432x288 with 1 Axes>"
      ]
     },
     "metadata": {
      "needs_background": "light"
     },
     "output_type": "display_data"
    }
   ],
   "source": [
    "ConfusionMatrixDisplay.from_predictions(y_true, y_pred, \n",
    "                                        normalize=\"true\", \n",
    "                                        values_format=\".2f\",\n",
    "                                        display_labels=[\"other\", \"mangrove\"],\n",
    "                                        colorbar=False,\n",
    "                                        cmap = plt.get_cmap('Blues'));"
   ]
  },
  {
   "cell_type": "code",
   "execution_count": null,
   "id": "cc3bac0a",
   "metadata": {},
   "outputs": [],
   "source": []
  }
 ],
 "metadata": {
  "kernelspec": {
   "display_name": "conda_gis",
   "language": "python",
   "name": "conda_gis"
  },
  "language_info": {
   "codemirror_mode": {
    "name": "ipython",
    "version": 3
   },
   "file_extension": ".py",
   "mimetype": "text/x-python",
   "name": "python",
   "nbconvert_exporter": "python",
   "pygments_lexer": "ipython3",
   "version": "3.8.12"
  }
 },
 "nbformat": 4,
 "nbformat_minor": 5
}
