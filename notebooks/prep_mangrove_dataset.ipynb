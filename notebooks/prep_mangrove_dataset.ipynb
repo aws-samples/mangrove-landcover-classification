{
 "cells": [
  {
   "cell_type": "code",
   "execution_count": null,
   "id": "709706ce",
   "metadata": {},
   "outputs": [],
   "source": [
    "import ee\n",
    "import pandas as pd"
   ]
  },
  {
   "cell_type": "code",
   "execution_count": null,
   "id": "7a772d3c",
   "metadata": {},
   "outputs": [],
   "source": [
    "import sys\n",
    "sys.path.append(\"..\")"
   ]
  },
  {
   "cell_type": "code",
   "execution_count": null,
   "id": "894ecece",
   "metadata": {},
   "outputs": [],
   "source": [
    "from data_utils import get_data_by_zone_year\n",
    "from data_utils import save_regional_data\n",
    "from data_utils import split_dataset"
   ]
  },
  {
   "cell_type": "markdown",
   "id": "d0226921",
   "metadata": {},
   "source": [
    "### initialize earth engine"
   ]
  },
  {
   "cell_type": "code",
   "execution_count": null,
   "id": "376bbb18",
   "metadata": {},
   "outputs": [],
   "source": [
    "ee.Initialize()"
   ]
  },
  {
   "cell_type": "markdown",
   "id": "93123f1d",
   "metadata": {},
   "source": [
    "### select bucket to store dataset"
   ]
  },
  {
   "cell_type": "code",
   "execution_count": null,
   "id": "11b2f9e3",
   "metadata": {},
   "outputs": [],
   "source": [
    "s3_bucket = \"sagemaker-gis\""
   ]
  },
  {
   "cell_type": "markdown",
   "id": "8d01085c",
   "metadata": {},
   "source": [
    "### select satellite data, year and bands"
   ]
  },
  {
   "cell_type": "code",
   "execution_count": null,
   "id": "1120a578",
   "metadata": {},
   "outputs": [],
   "source": [
    "base_sat_data = \"LANDSAT/LC08/C01/T1_SR\"\n",
    "year = 2013\n",
    "bands = \"B[1-7]\"\n",
    "\n",
    "meta_dict = {\"src_dataset\": base_sat_data.replace(\"/\", \"_\"), \"year\": year}\n",
    "date_range = [f\"{year}-01-01\", f\"{year}-12-31\"]"
   ]
  },
  {
   "cell_type": "markdown",
   "id": "9ab0f3b3",
   "metadata": {},
   "source": [
    "### read representative coordinates for each region"
   ]
  },
  {
   "cell_type": "code",
   "execution_count": null,
   "id": "a55c44a6",
   "metadata": {},
   "outputs": [],
   "source": [
    "df_zones = pd.read_csv(\"../zones.csv\").set_index(\"region\")\n",
    "df_zones.head()"
   ]
  },
  {
   "cell_type": "markdown",
   "id": "db8f61d6",
   "metadata": {},
   "source": [
    "### create dataset for each region"
   ]
  },
  {
   "cell_type": "code",
   "execution_count": null,
   "id": "bf6d2735",
   "metadata": {},
   "outputs": [],
   "source": [
    "for area in df_zones.index:\n",
    "    print(f\"processing data for {area}...\")\n",
    "    point_of_int = df_zones.loc[area, [\"lon\", \"lat\"]].tolist()\n",
    "    data_dict = get_data_by_zone_year(\n",
    "        point_of_int, date_range, base_sat_data, bands\n",
    "    )\n",
    "    meta_dict[\"poi\"] = area.replace(\" \", \"_\")\n",
    "    save_regional_data(data_dict, meta_dict, s3_bucket)"
   ]
  },
  {
   "cell_type": "markdown",
   "id": "3098aae0",
   "metadata": {},
   "source": [
    "### split the dataset between training and test sets"
   ]
  },
  {
   "cell_type": "code",
   "execution_count": null,
   "id": "9fb411c9",
   "metadata": {},
   "outputs": [],
   "source": [
    "areas_for_test = [\"Vietnam2\", \"Myanmar3\", \"Cuba2\", \"India\"]\n",
    "folder = f\"{meta_dict['src_dataset']}/Year{meta_dict['year']}\"\n",
    "split_dataset(areas_for_test, s3_bucket, folder)"
   ]
  },
  {
   "cell_type": "markdown",
   "id": "4c6a54cd",
   "metadata": {},
   "source": [
    "### Check the training and test datasets"
   ]
  },
  {
   "cell_type": "code",
   "execution_count": null,
   "id": "feccc30c",
   "metadata": {},
   "outputs": [],
   "source": [
    "df_tr = pd.read_csv(f\"s3://{s3_bucket}/{meta_dict['src_dataset']}/Year{meta_dict['year']}/train.csv\")\n",
    "df_te = pd.read_csv(f\"s3://{s3_bucket}/{meta_dict['src_dataset']}/Year{meta_dict['year']}/test.csv\")"
   ]
  },
  {
   "cell_type": "code",
   "execution_count": null,
   "id": "49f1581d",
   "metadata": {},
   "outputs": [],
   "source": [
    "df_tr.head()"
   ]
  },
  {
   "cell_type": "code",
   "execution_count": null,
   "id": "1d1e6832",
   "metadata": {},
   "outputs": [],
   "source": [
    "df_te.head()"
   ]
  },
  {
   "cell_type": "code",
   "execution_count": null,
   "id": "d2803214",
   "metadata": {},
   "outputs": [],
   "source": [
    "df_tr.shape, df_te.shape"
   ]
  },
  {
   "cell_type": "markdown",
   "id": "1e656ea0",
   "metadata": {},
   "source": [
    "### Check the class composition"
   ]
  },
  {
   "cell_type": "code",
   "execution_count": null,
   "id": "b62d03ad",
   "metadata": {},
   "outputs": [],
   "source": [
    "df_tr.label.value_counts(normalize=True)"
   ]
  },
  {
   "cell_type": "code",
   "execution_count": null,
   "id": "ee90384b",
   "metadata": {},
   "outputs": [],
   "source": [
    "df_te.label.value_counts(normalize=True)"
   ]
  },
  {
   "cell_type": "code",
   "execution_count": null,
   "id": "7699e57d",
   "metadata": {},
   "outputs": [],
   "source": []
  }
 ],
 "metadata": {
  "kernelspec": {
   "display_name": "gis",
   "language": "python",
   "name": "gis"
  },
  "language_info": {
   "codemirror_mode": {
    "name": "ipython",
    "version": 3
   },
   "file_extension": ".py",
   "mimetype": "text/x-python",
   "name": "python",
   "nbconvert_exporter": "python",
   "pygments_lexer": "ipython3",
   "version": "3.8.12"
  }
 },
 "nbformat": 4,
 "nbformat_minor": 5
}
